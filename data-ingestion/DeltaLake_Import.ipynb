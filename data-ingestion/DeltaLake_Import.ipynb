{
 "metadata": {
  "kernelspec": {
   "name": "glue_pyspark",
   "display_name": "Glue PySpark",
   "language": "python"
  },
  "language_info": {
   "name": "Python_Glue_Session",
   "mimetype": "text/x-python",
   "codemirror_mode": {
    "name": "python",
    "version": 3
   },
   "pygments_lexer": "python3",
   "file_extension": ".py"
  }
 },
 "nbformat_minor": 4,
 "nbformat": 4,
 "cells": [
  {
   "cell_type": "code",
   "source": [
    "%session_id_prefix native-delta-dataframe-\n",
    "%glue_version 3.0\n",
    "%idle_timeout 60\n",
    "%%configure\n",
    "{\n",
    "  \"--conf\": \"spark.sql.extensions=io.delta.sql.DeltaSparkSessionExtension --conf spark.sql.catalog.spark_catalog=org.apache.spark.sql.delta.catalog.DeltaCatalog\",\n",
    "  \"--datalake-formats\": \"delta\"\n",
    "}"
   ],
   "metadata": {
    "trusted": true,
    "tags": []
   },
   "execution_count": 5,
   "outputs": [
    {
     "name": "stdout",
     "text": "Welcome to the Glue Interactive Sessions Kernel\nFor more information on available magic commands, please type %help in any new cell.\n\nPlease view our Getting Started page to access the most up-to-date information on the Interactive Sessions kernel: https://docs.aws.amazon.com/glue/latest/dg/interactive-sessions.html\nInstalled kernel version: 1.0.4 \nSetting session ID prefix to native-delta-dataframe-\nSetting Glue version to: 3.0\nCurrent idle_timeout is None minutes.\nidle_timeout has been set to 60 minutes.\nThe following configurations have been updated: {'--conf': 'spark.sql.extensions=io.delta.sql.DeltaSparkSessionExtension --conf spark.sql.catalog.spark_catalog=org.apache.spark.sql.delta.catalog.DeltaCatalog', '--datalake-formats': 'delta'}\n",
     "output_type": "stream"
    }
   ]
  },
  {
   "cell_type": "code",
   "source": [
    "bucket_name = \"lakehouse-deltalake\"\n",
    "bucket_prefix = \"/data\"\n",
    "database_name = \"tpc_h_sf1\"\n",
    "database_prefix = f\"{bucket_prefix}/{database_name}\"\n",
    "database_location = f\"s3://{bucket_name}/{database_prefix}/\"\n",
    "table_name = \"customers\"\n",
    "table_prefix = f\"{database_prefix}/{table_name}\"\n",
    "table_location = f\"s3://{bucket_name}/{table_prefix}/\""
   ],
   "metadata": {
    "trusted": true,
    "tags": []
   },
   "execution_count": 10,
   "outputs": [
    {
     "name": "stdout",
     "text": "\n",
     "output_type": "stream"
    }
   ]
  },
  {
   "cell_type": "code",
   "source": [
    "import boto3\n",
    "\n",
    "## Delete files in S3\n",
    "s3 = boto3.resource('s3')\n",
    "bucket = s3.Bucket(bucket_name)\n",
    "bucket.objects.filter(Prefix=f\"{table_prefix}/\").delete()\n",
    "\n",
    "## Drop tables in Glue Data Catalog\n",
    "try:\n",
    "    glue = boto3.client('glue')\n",
    "    glue.delete_table(DatabaseName=database_name, Name=table_name)\n",
    "except glue.exceptions.EntityNotFoundException:\n",
    "    print(f\"Table {database_name}.{table_name} does not exist\")\n",
    "try:\n",
    "    glue = boto3.client('glue')\n",
    "    glue.delete_table(DatabaseName=database_name, Name='testTable')\n",
    "except glue.exceptions.EntityNotFoundException:\n",
    "    print(f\"Table {database_name}.testTable does not exist\")"
   ],
   "metadata": {
    "trusted": true,
    "tags": []
   },
   "execution_count": 2,
   "outputs": [
    {
     "name": "stdout",
     "text": "Table tpc-h-sf1.customers does not exist\nTable tpc-h-sf1.testTable does not exist\n",
     "output_type": "stream"
    }
   ]
  },
  {
   "cell_type": "markdown",
   "source": [
    "## Create Database in Glue Catalog"
   ],
   "metadata": {}
  },
  {
   "cell_type": "code",
   "source": [
    "try:\n",
    "    glue = boto3.client('glue')\n",
    "    res = glue.get_database(Name=database_name)\n",
    "    print(f\"Database {database_name} exists.\")\n",
    "    if 'LocationUri' not in res['Database']:\n",
    "        print(f\"Warning: Database {database_name} does not have Location. You need to configure location in the database.\")\n",
    "except glue.exceptions.EntityNotFoundException:\n",
    "    print(f\"Database {database_name} does not exist.\")\n",
    "    glue = glue.create_database(\n",
    "        DatabaseInput={\n",
    "            'Name': database_name,\n",
    "            'LocationUri': database_location\n",
    "        }\n",
    "    )\n",
    "    print(f\"Created a new database {database_name}.\")"
   ],
   "metadata": {
    "trusted": true,
    "tags": []
   },
   "execution_count": 11,
   "outputs": [
    {
     "name": "stdout",
     "text": "Database tpc_h_sf1 does not exist.\nCreated a new database tpc_h_sf1.\n",
     "output_type": "stream"
    }
   ]
  },
  {
   "cell_type": "code",
   "source": [
    "from pyspark.sql import Row\n",
    "import time\n",
    "\n",
    "ut = time.time()\n",
    "\n",
    "df_customers = spark.read.options(delimiter=\"|\", header=False).csv(\"s3://tpc-h-dataset/sf1/customer/\")\n",
    "df_customers.show()"
   ],
   "metadata": {
    "trusted": true,
    "tags": []
   },
   "execution_count": 7,
   "outputs": [
    {
     "name": "stdout",
     "text": "+---+------------------+--------------------+---+---------------+-------+----------+--------------------+----+\n|_c0|               _c1|                 _c2|_c3|            _c4|    _c5|       _c6|                 _c7| _c8|\n+---+------------------+--------------------+---+---------------+-------+----------+--------------------+----+\n|  1|Customer#000000001|   IVhzIApeRb ot,c,E| 15|25-989-741-2988| 711.56|  BUILDING|to the even, regu...|null|\n|  2|Customer#000000002|XSTf4,NCwDVaWNe6t...| 13|23-768-687-3665| 121.65|AUTOMOBILE|l accounts. blith...|null|\n|  3|Customer#000000003|        MG9kdTD2WBHm|  1|11-719-748-3364|7498.12|AUTOMOBILE| deposits eat sly...|null|\n|  4|Customer#000000004|         XxVSJsLAGtn|  4|14-128-190-5944|2866.83| MACHINERY| requests. final,...|null|\n|  5|Customer#000000005|KvpyuHCplrB84WgAi...|  3|13-750-942-6364| 794.47| HOUSEHOLD|n accounts will h...|null|\n|  6|Customer#000000006|sKZz0CsnMD7mp4Xd0...| 20|30-114-968-4951|7638.57|AUTOMOBILE|tions. even depos...|null|\n|  7|Customer#000000007|TcGe5gaZNgVePxU5k...| 18|28-190-982-9759|9561.95|AUTOMOBILE|ainst the ironic,...|null|\n|  8|Customer#000000008|I0B10bB0AymmC, 0P...| 17|27-147-574-9335|6819.74|  BUILDING|among the slyly r...|null|\n|  9|Customer#000000009|xKiAFTjUsCuxfeleN...|  8|18-338-906-3675|8324.07| FURNITURE|r theodolites acc...|null|\n| 10|Customer#000000010|6LrEaV6KR6PLVcgl2...|  5|15-741-346-9870|2753.54| HOUSEHOLD|es regular deposi...|null|\n| 11|Customer#000000011|PkWS 3HlXqwTuzrKg...| 23|33-464-151-3439|-272.60|  BUILDING|ckages. requests ...|null|\n| 12|Customer#000000012|       9PWKuhzT4Zr1Q| 13|23-791-276-1263|3396.49| HOUSEHOLD| to the carefully...|null|\n| 13|Customer#000000013|nsXQu0oVjD7PM659u...|  3|13-761-547-5974|3857.34|  BUILDING|ounts sleep caref...|null|\n| 14|Customer#000000014|     KXkletMlL2JQEA |  1|11-845-129-3851|5266.30| FURNITURE|, ironic packages...|null|\n| 15|Customer#000000015|YtWggXoOLdwdo7b0y...| 23|33-687-542-7601|2788.52| HOUSEHOLD| platelets. regul...|null|\n| 16|Customer#000000016| cYiaeMLZSMAOQ2 d0W,| 10|20-781-609-3107|4681.03| FURNITURE|kly silent courts...|null|\n| 17|Customer#000000017|izrh 6jdqtp2eqdtb...|  2|12-970-682-3487|   6.34|AUTOMOBILE|packages wake! bl...|null|\n| 18|Customer#000000018|3txGO AiuFux3zT0Z...|  6|16-155-215-1315|5494.43|  BUILDING|s sleep. carefull...|null|\n| 19|Customer#000000019|uc,3bHIx84H,wdrmL...| 18|28-396-526-5053|8914.71| HOUSEHOLD| nag. furiously c...|null|\n| 20|Customer#000000020|       JrPk8Pqplj4Ne| 22|32-957-234-8742|7603.40| FURNITURE|g alongside of th...|null|\n+---+------------------+--------------------+---+---------------+-------+----------+--------------------+----+\nonly showing top 20 rows\n",
     "output_type": "stream"
    }
   ]
  },
  {
   "cell_type": "code",
   "source": [
    "# Create table in the metastore using DataFrame's schema and write data to it\n",
    "df_customers.write.format(\"delta\").mode(\"overwrite\").option(\"path\",table_location).saveAsTable(f\"{database_name}.{table_name}\")"
   ],
   "metadata": {
    "trusted": true,
    "tags": []
   },
   "execution_count": 12,
   "outputs": [
    {
     "name": "stdout",
     "text": "\n",
     "output_type": "stream"
    }
   ]
  },
  {
   "cell_type": "code",
   "source": [
    "# query table in the metastore\n",
    "df_customers_read = spark.table(f\"{database_name}.{table_name}\")\n",
    "df_customers_read.show()"
   ],
   "metadata": {
    "trusted": true,
    "tags": []
   },
   "execution_count": 13,
   "outputs": [
    {
     "name": "stdout",
     "text": "+---+------------------+--------------------+---+---------------+-------+----------+--------------------+----+\n|_c0|               _c1|                 _c2|_c3|            _c4|    _c5|       _c6|                 _c7| _c8|\n+---+------------------+--------------------+---+---------------+-------+----------+--------------------+----+\n|  1|Customer#000000001|   IVhzIApeRb ot,c,E| 15|25-989-741-2988| 711.56|  BUILDING|to the even, regu...|null|\n|  2|Customer#000000002|XSTf4,NCwDVaWNe6t...| 13|23-768-687-3665| 121.65|AUTOMOBILE|l accounts. blith...|null|\n|  3|Customer#000000003|        MG9kdTD2WBHm|  1|11-719-748-3364|7498.12|AUTOMOBILE| deposits eat sly...|null|\n|  4|Customer#000000004|         XxVSJsLAGtn|  4|14-128-190-5944|2866.83| MACHINERY| requests. final,...|null|\n|  5|Customer#000000005|KvpyuHCplrB84WgAi...|  3|13-750-942-6364| 794.47| HOUSEHOLD|n accounts will h...|null|\n|  6|Customer#000000006|sKZz0CsnMD7mp4Xd0...| 20|30-114-968-4951|7638.57|AUTOMOBILE|tions. even depos...|null|\n|  7|Customer#000000007|TcGe5gaZNgVePxU5k...| 18|28-190-982-9759|9561.95|AUTOMOBILE|ainst the ironic,...|null|\n|  8|Customer#000000008|I0B10bB0AymmC, 0P...| 17|27-147-574-9335|6819.74|  BUILDING|among the slyly r...|null|\n|  9|Customer#000000009|xKiAFTjUsCuxfeleN...|  8|18-338-906-3675|8324.07| FURNITURE|r theodolites acc...|null|\n| 10|Customer#000000010|6LrEaV6KR6PLVcgl2...|  5|15-741-346-9870|2753.54| HOUSEHOLD|es regular deposi...|null|\n| 11|Customer#000000011|PkWS 3HlXqwTuzrKg...| 23|33-464-151-3439|-272.60|  BUILDING|ckages. requests ...|null|\n| 12|Customer#000000012|       9PWKuhzT4Zr1Q| 13|23-791-276-1263|3396.49| HOUSEHOLD| to the carefully...|null|\n| 13|Customer#000000013|nsXQu0oVjD7PM659u...|  3|13-761-547-5974|3857.34|  BUILDING|ounts sleep caref...|null|\n| 14|Customer#000000014|     KXkletMlL2JQEA |  1|11-845-129-3851|5266.30| FURNITURE|, ironic packages...|null|\n| 15|Customer#000000015|YtWggXoOLdwdo7b0y...| 23|33-687-542-7601|2788.52| HOUSEHOLD| platelets. regul...|null|\n| 16|Customer#000000016| cYiaeMLZSMAOQ2 d0W,| 10|20-781-609-3107|4681.03| FURNITURE|kly silent courts...|null|\n| 17|Customer#000000017|izrh 6jdqtp2eqdtb...|  2|12-970-682-3487|   6.34|AUTOMOBILE|packages wake! bl...|null|\n| 18|Customer#000000018|3txGO AiuFux3zT0Z...|  6|16-155-215-1315|5494.43|  BUILDING|s sleep. carefull...|null|\n| 19|Customer#000000019|uc,3bHIx84H,wdrmL...| 18|28-396-526-5053|8914.71| HOUSEHOLD| nag. furiously c...|null|\n| 20|Customer#000000020|       JrPk8Pqplj4Ne| 22|32-957-234-8742|7603.40| FURNITURE|g alongside of th...|null|\n+---+------------------+--------------------+---+---------------+-------+----------+--------------------+----+\nonly showing top 20 rows\n",
     "output_type": "stream"
    }
   ]
  },
  {
   "cell_type": "code",
   "source": [
    "%%sql\n",
    "SELECT COUNT(*) FROM tpc_h_sf1.customers;"
   ],
   "metadata": {
    "trusted": true,
    "tags": []
   },
   "execution_count": 14,
   "outputs": [
    {
     "name": "stdout",
     "text": "+--------+\n|count(1)|\n+--------+\n|  150000|\n+--------+\n",
     "output_type": "stream"
    }
   ]
  },
  {
   "cell_type": "code",
   "source": [
    "%%sql\n",
    "CREATE TABLE region\n",
    "(\n",
    "    R_REGIONKEY INT,\n",
    "    R_NAME STRING,\n",
    "    R_COMMENT STRING\n",
    ") USING DELTA;"
   ],
   "metadata": {
    "trusted": true,
    "tags": []
   },
   "execution_count": 16,
   "outputs": [
    {
     "name": "stdout",
     "text": "AnalysisException: Table default.region already exists\n",
     "output_type": "stream"
    }
   ]
  },
  {
   "cell_type": "code",
   "source": [
    "%%sql\n",
    "CREATE TABLE nation\n",
    "(\n",
    "    N_NATIONKEY INT,\n",
    "    N_NAME STRING,\n",
    "    N_REGIONKEY INT,\n",
    "    N_COMMENT STRING\n",
    ") USING DELTA LOCATION \"s3://lakehouse-deltalake/data/tpc_h_sf1/nation\";"
   ],
   "metadata": {
    "trusted": true,
    "tags": []
   },
   "execution_count": 19,
   "outputs": [
    {
     "name": "stdout",
     "text": "IllegalArgumentException: Can not create a Path from an empty string\n",
     "output_type": "stream"
    }
   ]
  },
  {
   "cell_type": "code",
   "source": [
    "query = \"\"\"\n",
    "CREATE TABLE tpc_h_sf1.orders (\n",
    "    O_ORDERKEY INT,\n",
    "    O_CUSTKEY INT,\n",
    "    O_ORDERSTATUS INT,\n",
    "    O_TOTALPRICE INT,\n",
    "    O_ORDERDATE DATE,\n",
    "    O_ORDERPRIORITY STRING,\n",
    "    O_CLERK STRING,\n",
    "    O_SHIPPRIORITY INT,\n",
    "    O_COMMENT STRING\n",
    ") USING delta LOCATION 's3://lakehouse-deltalake/data/tpc_h_sf1/orders'\n",
    "\"\"\"\n",
    "spark.sql(query)"
   ],
   "metadata": {
    "trusted": true,
    "tags": []
   },
   "execution_count": 24,
   "outputs": [
    {
     "name": "stdout",
     "text": "DataFrame[]\n",
     "output_type": "stream"
    }
   ]
  },
  {
   "cell_type": "code",
   "source": [],
   "metadata": {},
   "execution_count": null,
   "outputs": []
  }
 ]
}
