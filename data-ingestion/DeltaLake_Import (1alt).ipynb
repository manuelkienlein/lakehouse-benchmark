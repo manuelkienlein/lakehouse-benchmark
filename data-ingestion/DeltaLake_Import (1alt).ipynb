{
 "metadata": {
  "kernelspec": {
   "name": "glue_pyspark",
   "display_name": "Glue PySpark",
   "language": "python"
  },
  "language_info": {
   "name": "Python_Glue_Session",
   "mimetype": "text/x-python",
   "codemirror_mode": {
    "name": "python",
    "version": 3
   },
   "pygments_lexer": "python3",
   "file_extension": ".py"
  }
 },
 "nbformat_minor": 4,
 "nbformat": 4,
 "cells": [
  {
   "cell_type": "code",
   "source": [
    "%session_id_prefix native-delta-dataframe-\n",
    "%glue_version 3.0\n",
    "%idle_timeout 60\n",
    "%%configure\n",
    "{\n",
    "  \"--conf\": \"spark.sql.extensions=io.delta.sql.DeltaSparkSessionExtension --conf spark.sql.catalog.spark_catalog=org.apache.spark.sql.delta.catalog.DeltaCatalog\",\n",
    "  \"--datalake-formats\": \"delta\"\n",
    "}"
   ],
   "metadata": {
    "trusted": true,
    "tags": []
   },
   "execution_count": 5,
   "outputs": [
    {
     "name": "stdout",
     "text": "Welcome to the Glue Interactive Sessions Kernel\nFor more information on available magic commands, please type %help in any new cell.\n\nPlease view our Getting Started page to access the most up-to-date information on the Interactive Sessions kernel: https://docs.aws.amazon.com/glue/latest/dg/interactive-sessions.html\nInstalled kernel version: 1.0.4 \nSetting session ID prefix to native-delta-dataframe-\nSetting Glue version to: 3.0\nCurrent idle_timeout is None minutes.\nidle_timeout has been set to 60 minutes.\nThe following configurations have been updated: {'--conf': 'spark.sql.extensions=io.delta.sql.DeltaSparkSessionExtension --conf spark.sql.catalog.spark_catalog=org.apache.spark.sql.delta.catalog.DeltaCatalog', '--datalake-formats': 'delta'}\n",
     "output_type": "stream"
    }
   ]
  },
  {
   "cell_type": "code",
   "source": [
    "bucket_name = \"lakehouse-deltalake\"\n",
    "bucket_prefix = \"/data\"\n",
    "database_name = \"tpc_h_sf1\"\n",
    "database_prefix = f\"{bucket_prefix}/{database_name}\"\n",
    "database_location = f\"s3://{bucket_name}/{database_prefix}/\"\n",
    "table_name = \"customers\"\n",
    "table_prefix = f\"{database_prefix}/{table_name}\"\n",
    "table_location = f\"s3://{bucket_name}/{table_prefix}/\""
   ],
   "metadata": {
    "trusted": true,
    "tags": []
   },
   "execution_count": 1,
   "outputs": [
    {
     "name": "stdout",
     "text": "Trying to create a Glue session for the kernel.\nSession Type: glueetl\nWorker Type: G.1X\nNumber of Workers: 5\nSession ID: e6bec54d-b749-43a9-84c7-5cff7ccc68e1\nApplying the following default arguments:\n--glue_kernel_version 1.0.4\n--enable-glue-datacatalog true\n--conf spark.sql.extensions=io.delta.sql.DeltaSparkSessionExtension --conf spark.sql.catalog.spark_catalog=org.apache.spark.sql.delta.catalog.DeltaCatalog\n--datalake-formats delta\nWaiting for session e6bec54d-b749-43a9-84c7-5cff7ccc68e1 to get into ready status...\nSession e6bec54d-b749-43a9-84c7-5cff7ccc68e1 has been created.\n\n",
     "output_type": "stream"
    }
   ]
  },
  {
   "cell_type": "code",
   "source": [
    "import boto3\n",
    "\n",
    "## Delete files in S3\n",
    "s3 = boto3.resource('s3')\n",
    "bucket = s3.Bucket(bucket_name)\n",
    "bucket.objects.filter(Prefix=f\"{table_prefix}/\").delete()\n",
    "\n",
    "## Drop tables in Glue Data Catalog\n",
    "try:\n",
    "    glue = boto3.client('glue')\n",
    "    glue.delete_table(DatabaseName=database_name, Name=table_name)\n",
    "except glue.exceptions.EntityNotFoundException:\n",
    "    print(f\"Table {database_name}.{table_name} does not exist\")\n",
    "try:\n",
    "    glue = boto3.client('glue')\n",
    "    glue.delete_table(DatabaseName=database_name, Name='testTable')\n",
    "except glue.exceptions.EntityNotFoundException:\n",
    "    print(f\"Table {database_name}.{table_name} does not exist\")"
   ],
   "metadata": {
    "trusted": true,
    "tags": []
   },
   "execution_count": 2,
   "outputs": [
    {
     "name": "stdout",
     "text": "Table tpc_h_sf1.customers does not exist\nTable tpc_h_sf1.testTable does not exist\n",
     "output_type": "stream"
    }
   ]
  },
  {
   "cell_type": "markdown",
   "source": [
    "## Create Database in Glue Catalog"
   ],
   "metadata": {}
  },
  {
   "cell_type": "code",
   "source": [
    "try:\n",
    "    glue = boto3.client('glue')\n",
    "    res = glue.get_database(Name=database_name)\n",
    "    print(f\"Database {database_name} exists.\")\n",
    "    if 'LocationUri' not in res['Database']:\n",
    "        print(f\"Warning: Database {database_name} does not have Location. You need to configure location in the database.\")\n",
    "except glue.exceptions.EntityNotFoundException:\n",
    "    print(f\"Database {database_name} does not exist.\")\n",
    "    glue = glue.create_database(\n",
    "        DatabaseInput={\n",
    "            'Name': database_name,\n",
    "            'LocationUri': database_location\n",
    "        }\n",
    "    )\n",
    "    print(f\"Created a new database {database_name}.\")"
   ],
   "metadata": {
    "trusted": true,
    "tags": []
   },
   "execution_count": 4,
   "outputs": [
    {
     "name": "stdout",
     "text": "Database tpc_h_sf1 exists.\n",
     "output_type": "stream"
    }
   ]
  },
  {
   "cell_type": "code",
   "source": [
    "from pyspark.sql import Row\n",
    "import time\n",
    "\n",
    "ut = time.time()\n",
    "\n",
    "df_customers = spark.read.options(delimiter=\"|\", header=False).csv(\"s3://tpc-h-dataset/sf1/customer/\")\n",
    "df_customers.show()"
   ],
   "metadata": {
    "trusted": true,
    "tags": []
   },
   "execution_count": 5,
   "outputs": [
    {
     "name": "stdout",
     "text": "+---+------------------+--------------------+---+---------------+-------+----------+--------------------+----+\n|_c0|               _c1|                 _c2|_c3|            _c4|    _c5|       _c6|                 _c7| _c8|\n+---+------------------+--------------------+---+---------------+-------+----------+--------------------+----+\n|  1|Customer#000000001|   IVhzIApeRb ot,c,E| 15|25-989-741-2988| 711.56|  BUILDING|to the even, regu...|null|\n|  2|Customer#000000002|XSTf4,NCwDVaWNe6t...| 13|23-768-687-3665| 121.65|AUTOMOBILE|l accounts. blith...|null|\n|  3|Customer#000000003|        MG9kdTD2WBHm|  1|11-719-748-3364|7498.12|AUTOMOBILE| deposits eat sly...|null|\n|  4|Customer#000000004|         XxVSJsLAGtn|  4|14-128-190-5944|2866.83| MACHINERY| requests. final,...|null|\n|  5|Customer#000000005|KvpyuHCplrB84WgAi...|  3|13-750-942-6364| 794.47| HOUSEHOLD|n accounts will h...|null|\n|  6|Customer#000000006|sKZz0CsnMD7mp4Xd0...| 20|30-114-968-4951|7638.57|AUTOMOBILE|tions. even depos...|null|\n|  7|Customer#000000007|TcGe5gaZNgVePxU5k...| 18|28-190-982-9759|9561.95|AUTOMOBILE|ainst the ironic,...|null|\n|  8|Customer#000000008|I0B10bB0AymmC, 0P...| 17|27-147-574-9335|6819.74|  BUILDING|among the slyly r...|null|\n|  9|Customer#000000009|xKiAFTjUsCuxfeleN...|  8|18-338-906-3675|8324.07| FURNITURE|r theodolites acc...|null|\n| 10|Customer#000000010|6LrEaV6KR6PLVcgl2...|  5|15-741-346-9870|2753.54| HOUSEHOLD|es regular deposi...|null|\n| 11|Customer#000000011|PkWS 3HlXqwTuzrKg...| 23|33-464-151-3439|-272.60|  BUILDING|ckages. requests ...|null|\n| 12|Customer#000000012|       9PWKuhzT4Zr1Q| 13|23-791-276-1263|3396.49| HOUSEHOLD| to the carefully...|null|\n| 13|Customer#000000013|nsXQu0oVjD7PM659u...|  3|13-761-547-5974|3857.34|  BUILDING|ounts sleep caref...|null|\n| 14|Customer#000000014|     KXkletMlL2JQEA |  1|11-845-129-3851|5266.30| FURNITURE|, ironic packages...|null|\n| 15|Customer#000000015|YtWggXoOLdwdo7b0y...| 23|33-687-542-7601|2788.52| HOUSEHOLD| platelets. regul...|null|\n| 16|Customer#000000016| cYiaeMLZSMAOQ2 d0W,| 10|20-781-609-3107|4681.03| FURNITURE|kly silent courts...|null|\n| 17|Customer#000000017|izrh 6jdqtp2eqdtb...|  2|12-970-682-3487|   6.34|AUTOMOBILE|packages wake! bl...|null|\n| 18|Customer#000000018|3txGO AiuFux3zT0Z...|  6|16-155-215-1315|5494.43|  BUILDING|s sleep. carefull...|null|\n| 19|Customer#000000019|uc,3bHIx84H,wdrmL...| 18|28-396-526-5053|8914.71| HOUSEHOLD| nag. furiously c...|null|\n| 20|Customer#000000020|       JrPk8Pqplj4Ne| 22|32-957-234-8742|7603.40| FURNITURE|g alongside of th...|null|\n+---+------------------+--------------------+---+---------------+-------+----------+--------------------+----+\nonly showing top 20 rows\n",
     "output_type": "stream"
    }
   ]
  },
  {
   "cell_type": "code",
   "source": [
    "# Create table in the metastore using DataFrame's schema and write data to it\n",
    "df_customers.write.format(\"delta\").mode(\"overwrite\").option(\"path\",table_location).saveAsTable(f\"{database_name}.{table_name}\")"
   ],
   "metadata": {
    "trusted": true,
    "tags": []
   },
   "execution_count": 6,
   "outputs": [
    {
     "name": "stdout",
     "text": "\n",
     "output_type": "stream"
    }
   ]
  },
  {
   "cell_type": "code",
   "source": [
    "# query table in the metastore\n",
    "df_customers_read = spark.table(f\"{database_name}.{table_name}\")\n",
    "df_customers_read.show()"
   ],
   "metadata": {
    "trusted": true,
    "tags": []
   },
   "execution_count": 7,
   "outputs": [
    {
     "name": "stdout",
     "text": "+---+------------------+--------------------+---+---------------+-------+----------+--------------------+----+\n|_c0|               _c1|                 _c2|_c3|            _c4|    _c5|       _c6|                 _c7| _c8|\n+---+------------------+--------------------+---+---------------+-------+----------+--------------------+----+\n|  1|Customer#000000001|   IVhzIApeRb ot,c,E| 15|25-989-741-2988| 711.56|  BUILDING|to the even, regu...|null|\n|  2|Customer#000000002|XSTf4,NCwDVaWNe6t...| 13|23-768-687-3665| 121.65|AUTOMOBILE|l accounts. blith...|null|\n|  3|Customer#000000003|        MG9kdTD2WBHm|  1|11-719-748-3364|7498.12|AUTOMOBILE| deposits eat sly...|null|\n|  4|Customer#000000004|         XxVSJsLAGtn|  4|14-128-190-5944|2866.83| MACHINERY| requests. final,...|null|\n|  5|Customer#000000005|KvpyuHCplrB84WgAi...|  3|13-750-942-6364| 794.47| HOUSEHOLD|n accounts will h...|null|\n|  6|Customer#000000006|sKZz0CsnMD7mp4Xd0...| 20|30-114-968-4951|7638.57|AUTOMOBILE|tions. even depos...|null|\n|  7|Customer#000000007|TcGe5gaZNgVePxU5k...| 18|28-190-982-9759|9561.95|AUTOMOBILE|ainst the ironic,...|null|\n|  8|Customer#000000008|I0B10bB0AymmC, 0P...| 17|27-147-574-9335|6819.74|  BUILDING|among the slyly r...|null|\n|  9|Customer#000000009|xKiAFTjUsCuxfeleN...|  8|18-338-906-3675|8324.07| FURNITURE|r theodolites acc...|null|\n| 10|Customer#000000010|6LrEaV6KR6PLVcgl2...|  5|15-741-346-9870|2753.54| HOUSEHOLD|es regular deposi...|null|\n| 11|Customer#000000011|PkWS 3HlXqwTuzrKg...| 23|33-464-151-3439|-272.60|  BUILDING|ckages. requests ...|null|\n| 12|Customer#000000012|       9PWKuhzT4Zr1Q| 13|23-791-276-1263|3396.49| HOUSEHOLD| to the carefully...|null|\n| 13|Customer#000000013|nsXQu0oVjD7PM659u...|  3|13-761-547-5974|3857.34|  BUILDING|ounts sleep caref...|null|\n| 14|Customer#000000014|     KXkletMlL2JQEA |  1|11-845-129-3851|5266.30| FURNITURE|, ironic packages...|null|\n| 15|Customer#000000015|YtWggXoOLdwdo7b0y...| 23|33-687-542-7601|2788.52| HOUSEHOLD| platelets. regul...|null|\n| 16|Customer#000000016| cYiaeMLZSMAOQ2 d0W,| 10|20-781-609-3107|4681.03| FURNITURE|kly silent courts...|null|\n| 17|Customer#000000017|izrh 6jdqtp2eqdtb...|  2|12-970-682-3487|   6.34|AUTOMOBILE|packages wake! bl...|null|\n| 18|Customer#000000018|3txGO AiuFux3zT0Z...|  6|16-155-215-1315|5494.43|  BUILDING|s sleep. carefull...|null|\n| 19|Customer#000000019|uc,3bHIx84H,wdrmL...| 18|28-396-526-5053|8914.71| HOUSEHOLD| nag. furiously c...|null|\n| 20|Customer#000000020|       JrPk8Pqplj4Ne| 22|32-957-234-8742|7603.40| FURNITURE|g alongside of th...|null|\n+---+------------------+--------------------+---+---------------+-------+----------+--------------------+----+\nonly showing top 20 rows\n",
     "output_type": "stream"
    }
   ]
  },
  {
   "cell_type": "code",
   "source": [
    "%%sql\n",
    "SELECT COUNT(*) FROM tpc_h_sf1.customers;"
   ],
   "metadata": {
    "trusted": true,
    "tags": []
   },
   "execution_count": 14,
   "outputs": [
    {
     "name": "stdout",
     "text": "+--------+\n|count(1)|\n+--------+\n|  150000|\n+--------+\n",
     "output_type": "stream"
    }
   ]
  },
  {
   "cell_type": "code",
   "source": [
    "%%sql\n",
    "CREATE TABLE region\n",
    "(\n",
    "    R_REGIONKEY INT,\n",
    "    R_NAME STRING,\n",
    "    R_COMMENT STRING\n",
    ") USING DELTA;"
   ],
   "metadata": {
    "trusted": true,
    "tags": []
   },
   "execution_count": 16,
   "outputs": [
    {
     "name": "stdout",
     "text": "AnalysisException: Table default.region already exists\n",
     "output_type": "stream"
    }
   ]
  },
  {
   "cell_type": "code",
   "source": [
    "%%sql\n",
    "CREATE TABLE nation\n",
    "(\n",
    "    N_NATIONKEY INT,\n",
    "    N_NAME STRING,\n",
    "    N_REGIONKEY INT,\n",
    "    N_COMMENT STRING\n",
    ") USING DELTA LOCATION \"s3://lakehouse-deltalake/data/tpc_h_sf1/nation\";"
   ],
   "metadata": {
    "trusted": true,
    "tags": []
   },
   "execution_count": 19,
   "outputs": [
    {
     "name": "stdout",
     "text": "IllegalArgumentException: Can not create a Path from an empty string\n",
     "output_type": "stream"
    }
   ]
  },
  {
   "cell_type": "code",
   "source": [
    "query = \"\"\"\n",
    "CREATE TABLE tpc_h_sf1.orders (\n",
    "    O_ORDERKEY INT,\n",
    "    O_CUSTKEY INT,\n",
    "    O_ORDERSTATUS STRING,\n",
    "    O_TOTALPRICE DOUBLE,\n",
    "    O_ORDERDATE DATE,\n",
    "    O_ORDERPRIORITY STRING,\n",
    "    O_CLERK STRING,\n",
    "    O_SHIPPRIORITY INT,\n",
    "    O_COMMENT STRING\n",
    ") USING delta LOCATION 's3://lakehouse-deltalake/data/tpc_h_sf1/orders'\n",
    "\"\"\"\n",
    "spark.sql(query)"
   ],
   "metadata": {
    "trusted": true,
    "tags": []
   },
   "execution_count": 52,
   "outputs": [
    {
     "name": "stdout",
     "text": "DataFrame[]\n",
     "output_type": "stream"
    }
   ]
  },
  {
   "cell_type": "code",
   "source": [
    "from delta.tables import *\n",
    "deltaTable = DeltaTable.forPath(\"s3://lakehouse-deltalake/data/tpc_h_sf1/customers\")\n",
    "deltaTable.generate(\"symlink_format_manifest\")"
   ],
   "metadata": {
    "trusted": true,
    "tags": []
   },
   "execution_count": 8,
   "outputs": [
    {
     "name": "stdout",
     "text": "TypeError: forPath() missing 1 required positional argument: 'path'\n",
     "output_type": "stream"
    }
   ]
  },
  {
   "cell_type": "code",
   "source": [
    "%%sql\n",
    "GENERATE symlink_format_manifest FOR TABLE delta.`s3://lakehouse-deltalake/data/tpc_h_sf1/orders`"
   ],
   "metadata": {
    "trusted": true,
    "tags": []
   },
   "execution_count": 58,
   "outputs": [
    {
     "name": "stdout",
     "text": "++\n||\n++\n++\n",
     "output_type": "stream"
    }
   ]
  },
  {
   "cell_type": "code",
   "source": [
    "df_orders = spark.read.options(delimiter=\"|\", header=False, inferSchema=True).csv(\"s3://tpc-h-dataset/sf1/orders/\")\n",
    "existing_table_df = spark.read.format(\"delta\").load(\"s3://lakehouse-deltalake/data/tpc_h_sf1/orders\")\n",
    "#df_orders = df_orders.drop(df_orders.columns[-1])\n",
    "#df_orders = df_orders.toDF(*existing_table_df.columns)\n",
    "df_orders.show()\n",
    "print(df_orders.schema)\n",
    "print(existing_table_df.schema)\n",
    "print(\"---\")\n",
    "df_orders = df_orders.drop(df_orders.columns[-1])\n",
    "df_orders = df_orders.toDF(*existing_table_df.columns)\n",
    "print(df_orders.schema)\n",
    "print(existing_table_df.schema)\n",
    "#df_orders.write.format(\"delta\").mode(\"overwrite\").option(\"path\",\"s3://lakehouse-deltalake/data/tpc_h_sf1/orders\").saveAsTable(f\"{database_name}.orders\")"
   ],
   "metadata": {
    "trusted": true,
    "tags": []
   },
   "execution_count": 53,
   "outputs": [
    {
     "name": "stdout",
     "text": "AnalysisException: Failed to merge fields 'O_ORDERDATE' and 'O_ORDERDATE'. Failed to merge incompatible data types DateType and StringType\n",
     "output_type": "stream"
    }
   ]
  },
  {
   "cell_type": "code",
   "source": [
    "# Read the schema of the Delta table\n",
    "delta_table_schema = spark.read.format(\"delta\").load(\"s3://lakehouse-deltalake/data/tpc_h_sf1/orders\").schema\n",
    "\n",
    "# Define the schema for the CSV file based on the Delta table schema\n",
    "csv_schema = StructType([StructField(field.name, field.dataType, field.nullable) for field in delta_table_schema])\n",
    "print(csv_schema)\n",
    "\n",
    "# Read the CSV file into a DataFrame with defined schema\n",
    "df_orders = spark.read.options(delimiter=\"|\", header=False, inferSchema=True).schema(csv_schema).csv(\"s3://tpc-h-dataset/sf1/orders/\")\n",
    "\n",
    "df_orders.write.format(\"delta\").mode(\"overwrite\").option(\"path\",\"s3://lakehouse-deltalake/data/tpc_h_sf1/orders\").saveAsTable(f\"{database_name}.orders\")"
   ],
   "metadata": {
    "trusted": true,
    "tags": []
   },
   "execution_count": 54,
   "outputs": [
    {
     "name": "stdout",
     "text": "StructType(List(StructField(O_ORDERKEY,IntegerType,true),StructField(O_CUSTKEY,IntegerType,true),StructField(O_ORDERSTATUS,StringType,true),StructField(O_TOTALPRICE,DoubleType,true),StructField(O_ORDERDATE,DateType,true),StructField(O_ORDERPRIORITY,StringType,true),StructField(O_CLERK,StringType,true),StructField(O_SHIPPRIORITY,IntegerType,true),StructField(O_COMMENT,StringType,true)))\n",
     "output_type": "stream"
    }
   ]
  },
  {
   "cell_type": "code",
   "source": [
    "df_customers_read = spark.table(f\"{database_name}.orders\")\n",
    "df_customers_read.show()"
   ],
   "metadata": {
    "trusted": true,
    "tags": []
   },
   "execution_count": 55,
   "outputs": [
    {
     "name": "stdout",
     "text": "+----------+---------+-------------+------------+-----------+---------------+---------------+--------------+--------------------+\n|O_ORDERKEY|O_CUSTKEY|O_ORDERSTATUS|O_TOTALPRICE|O_ORDERDATE|O_ORDERPRIORITY|        O_CLERK|O_SHIPPRIORITY|           O_COMMENT|\n+----------+---------+-------------+------------+-----------+---------------+---------------+--------------+--------------------+\n|   3600001|   106660|            O|   130445.43| 1995-10-25|       3-MEDIUM|Clerk#000000776|             0|nusual pinto bean...|\n|   3600002|   106873|            O|   226263.36| 1997-06-26|       1-URGENT|Clerk#000000337|             0|ctions sleep busi...|\n|   3600003|   112288|            F|   110840.45| 1993-06-19|       3-MEDIUM|Clerk#000000319|             0|ts. final, unusua...|\n|   3600004|    59149|            O|    45849.03| 1997-12-24|          5-LOW|Clerk#000000011|             0|s haggle against ...|\n|   3600005|    42071|            O|   124317.01| 1996-10-04|          5-LOW|Clerk#000000121|             0|tes boost about t...|\n|   3600006|   133325|            F|   188542.47| 1993-06-21|         2-HIGH|Clerk#000000079|             0|e ironic, ironic ...|\n|   3600007|    86974|            O|    42802.28| 1997-01-30|         2-HIGH|Clerk#000000841|             0|gular deposits sl...|\n|   3600032|     3928|            F|   242467.01| 1995-02-17|       1-URGENT|Clerk#000000531|             0|riously express t...|\n|   3600033|   141910|            O|   237938.61| 1998-03-09|         2-HIGH|Clerk#000000973|             0|nic packages use ...|\n|   3600034|    81127|            O|   205675.85| 1997-04-11|       1-URGENT|Clerk#000000501|             0|into beans nag ab...|\n|   3600035|   138745|            O|   133290.01| 1995-09-14|4-NOT SPECIFIED|Clerk#000000230|             0|quests. final ins...|\n|   3600036|   125521|            O|    55799.82| 1997-10-08|       3-MEDIUM|Clerk#000000023|             0|he carefully stea...|\n|   3600037|    21769|            O|    57091.73| 1995-10-08|       3-MEDIUM|Clerk#000000979|             0|ealms. quickly th...|\n|   3600038|    12856|            O|   182049.18| 1996-11-28|       1-URGENT|Clerk#000000833|             0|l pains by the fu...|\n|   3600039|    39868|            O|    36979.32| 1997-12-29|          5-LOW|Clerk#000000022|             0|l deposits are qu...|\n|   3600064|     3800|            F|   247673.98| 1993-05-29|4-NOT SPECIFIED|Clerk#000000096|             0|al deposits. regu...|\n|   3600065|   103216|            O|   126873.82| 1997-01-25|       3-MEDIUM|Clerk#000000643|             0|uriously pending ...|\n|   3600066|   145721|            F|   224588.37| 1994-10-09|         2-HIGH|Clerk#000000147|             0|le slyly regularl...|\n|   3600067|    72461|            P|   102630.59| 1995-04-20|          5-LOW|Clerk#000000916|             0|o beans. slyly fi...|\n|   3600068|   135934|            F|   273394.71| 1992-10-13|       3-MEDIUM|Clerk#000000311|             0|ly according to t...|\n+----------+---------+-------------+------------+-----------+---------------+---------------+--------------+--------------------+\nonly showing top 20 rows\n",
     "output_type": "stream"
    }
   ]
  },
  {
   "cell_type": "code",
   "source": [
    "%%sql\n",
    "DROP TABLE tpc_h_sf1.orders"
   ],
   "metadata": {
    "trusted": true,
    "tags": []
   },
   "execution_count": 50,
   "outputs": [
    {
     "name": "stdout",
     "text": "++\n||\n++\n++\n",
     "output_type": "stream"
    }
   ]
  },
  {
   "cell_type": "code",
   "source": [
    "df_orders = spark.read.options(delimiter=\"|\", header=False, inferSchema=True).csv(\"s3://tpc-h-dataset/sf1/orders/\")\n",
    "df_orders.show()"
   ],
   "metadata": {
    "trusted": true,
    "tags": []
   },
   "execution_count": 56,
   "outputs": [
    {
     "name": "stdout",
     "text": "+-------+------+---+---------+----------+---------------+---------------+---+--------------------+----+\n|    _c0|   _c1|_c2|      _c3|       _c4|            _c5|            _c6|_c7|                 _c8| _c9|\n+-------+------+---+---------+----------+---------------+---------------+---+--------------------+----+\n|1200001|121361|  F| 60106.33|1994-01-24|       1-URGENT|Clerk#000000340|  0|ourts are careful...|null|\n|1200002|  1775|  O|194561.08|1996-12-06|         2-HIGH|Clerk#000000709|  0|ts. ironic sheave...|null|\n|1200003|122593|  F| 10061.57|1994-01-23|         2-HIGH|Clerk#000000141|  0|bravely final acc...|null|\n|1200004|  6394|  O|206408.82|1996-06-10|       3-MEDIUM|Clerk#000000545|  0|posits wake caref...|null|\n|1200005| 57130|  F|234800.62|1995-01-04|         2-HIGH|Clerk#000000473|  0|tes. fluffily eve...|null|\n|1200006|  7114|  F|140726.22|1993-10-30|          5-LOW|Clerk#000000634|  0|thely regular packag|null|\n|1200007|146152|  O|167797.91|1998-04-18|       1-URGENT|Clerk#000000480|  0|to the busily iro...|null|\n|1200032|113299|  O|226035.32|1996-01-11|          5-LOW|Clerk#000000757|  0|quick packages. e...|null|\n|1200033| 84995|  F|183673.69|1992-10-08|4-NOT SPECIFIED|Clerk#000000592|  0|s. packages above...|null|\n|1200034| 50861|  F| 76127.95|1994-03-15|          5-LOW|Clerk#000000864|  0|y bold deposits a...|null|\n|1200035|113374|  O|206548.77|1995-10-09|       1-URGENT|Clerk#000000731|  0|furiously bold pl...|null|\n|1200036| 10162|  F| 74684.52|1993-04-10|       1-URGENT|Clerk#000000101|  0|lar packages. sly...|null|\n|1200037| 59182|  O| 74920.81|1995-10-23|       1-URGENT|Clerk#000000691|  0|unusual requests:...|null|\n|1200038| 11950|  O| 71778.43|1997-10-24|       1-URGENT|Clerk#000000076|  0| the slyly regula...|null|\n|1200039|120523|  F| 31043.82|1992-03-04|4-NOT SPECIFIED|Clerk#000000893|  0|ickly regular acc...|null|\n|1200064| 14071|  F| 344696.9|1992-02-18|         2-HIGH|Clerk#000000963|  0| accounts nag sly...|null|\n|1200065| 59149|  O| 164778.7|1997-03-04|       3-MEDIUM|Clerk#000000527|  0|fily regular depo...|null|\n|1200066| 41579|  O| 65890.34|1996-08-30|       3-MEDIUM|Clerk#000000027|  0|n accounts haggle...|null|\n|1200067|116176|  F|198381.97|1992-05-22|       1-URGENT|Clerk#000000556|  0|doze furiously am...|null|\n|1200068|147179|  F|165493.52|1993-09-24|          5-LOW|Clerk#000000514|  0|en ideas affix ca...|null|\n+-------+------+---+---------+----------+---------------+---------------+---+--------------------+----+\nonly showing top 20 rows\n",
     "output_type": "stream"
    }
   ]
  },
  {
   "cell_type": "code",
   "source": [
    "%%sql\n",
    "SELECT * FROM tpc_h_sf1.orders WHERE O_ORDERKEY = \"1200002\";"
   ],
   "metadata": {
    "trusted": true,
    "tags": []
   },
   "execution_count": 57,
   "outputs": [
    {
     "name": "stdout",
     "text": "+----------+---------+-------------+------------+-----------+---------------+---------------+--------------+--------------------+\n|O_ORDERKEY|O_CUSTKEY|O_ORDERSTATUS|O_TOTALPRICE|O_ORDERDATE|O_ORDERPRIORITY|        O_CLERK|O_SHIPPRIORITY|           O_COMMENT|\n+----------+---------+-------------+------------+-----------+---------------+---------------+--------------+--------------------+\n|   1200002|     1775|            O|   194561.08| 1996-12-06|         2-HIGH|Clerk#000000709|             0|ts. ironic sheave...|\n+----------+---------+-------------+------------+-----------+---------------+---------------+--------------+--------------------+\n",
     "output_type": "stream"
    }
   ]
  },
  {
   "cell_type": "code",
   "source": [],
   "metadata": {},
   "execution_count": null,
   "outputs": []
  }
 ]
}
